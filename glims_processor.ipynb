{
 "cells": [
  {
   "cell_type": "code",
   "execution_count": 15,
   "id": "c0f8ab72",
   "metadata": {},
   "outputs": [],
   "source": [
    "import os\n",
    "import geopandas as gpd\n",
    "import pandas as pd\n",
    "from collections import Counter\n",
    "from datetime import datetime"
   ]
  },
  {
   "cell_type": "code",
   "execution_count": 8,
   "id": "00e6a387",
   "metadata": {},
   "outputs": [],
   "source": [
    "file_dir = os.path.join(os.path.expanduser(\"~\"), \"Desktop\",\"projects\",\"glims_processor\",\"data\")\n",
    "file_name = \"master_glims_df.csv\"\n",
    "df = pd.read_csv(os.path.join(file_dir,file_name), index_col = 0) #read in data"
   ]
  },
  {
   "cell_type": "code",
   "execution_count": 9,
   "id": "24117897",
   "metadata": {},
   "outputs": [],
   "source": [
    "df['date'] = [datetime.strptime(dat.split(\"T\")[0], '%Y-%m-%d') for dat in list(df.src_date)] #convert string dates to datetime\n",
    "df = df.loc[df['date'] > datetime(2005,1,1)] #select glaciers with polygons drawn after 2005\n",
    "df = df[~df['geog_area'].isin(['Svalbard, Jan Mayen, and Bouvet', \"Various (GlobGlacier)\", 'Randolph Glacier Inventory; Umbrella RC for merging the RGI into GLIMS','Antarctic Peninsula','Various (NSIDC)'])]"
   ]
  },
  {
   "cell_type": "code",
   "execution_count": 11,
   "id": "53c208ab",
   "metadata": {},
   "outputs": [],
   "source": [
    "df = df[(df.db_area > 1) & (df.db_area < 50)]\n",
    "#create df which is a df of unique glaciers sorted by area, descending\n",
    "df = df.reset_index(drop = True)\n",
    "clean_copy = df.copy()\n",
    "s = set()\n",
    "for i in range(df.shape[0]):\n",
    "    if df.iloc[i,0] in s:\n",
    "        clean_copy = clean_copy.drop(i, axis = 0)\n",
    "        continue\n",
    "    else:\n",
    "        s.add(df.iloc[i,0])\n",
    "df = clean_copy"
   ]
  },
  {
   "cell_type": "code",
   "execution_count": 16,
   "id": "16e9ed74",
   "metadata": {},
   "outputs": [],
   "source": [
    "ids = list(Counter(df.glac_id).keys()) #get list of unique ids\n",
    "df_sub = df.sample(n=3000) #get top 3000 largest glaciers\n",
    "df['geometry'] = gpd.GeoSeries.from_wkt(df['geometry'])\n",
    "gdf = gpd.GeoDataFrame(df, geometry = \"geometry\")\n",
    "gdf.iloc[:,:-1].to_file(\"glims_3000_bb.shp\")"
   ]
  },
  {
   "cell_type": "code",
   "execution_count": null,
   "id": "03216fc2",
   "metadata": {},
   "outputs": [],
   "source": []
  }
 ],
 "metadata": {
  "kernelspec": {
   "display_name": "Python 3 (ipykernel)",
   "language": "python",
   "name": "python3"
  },
  "language_info": {
   "codemirror_mode": {
    "name": "ipython",
    "version": 3
   },
   "file_extension": ".py",
   "mimetype": "text/x-python",
   "name": "python",
   "nbconvert_exporter": "python",
   "pygments_lexer": "ipython3",
   "version": "3.9.7"
  }
 },
 "nbformat": 4,
 "nbformat_minor": 5
}
